{
 "cells": [
  {
   "cell_type": "code",
   "execution_count": 1,
   "metadata": {
    "collapsed": true
   },
   "outputs": [],
   "source": [
    "\"\"\" Sentiment Analysis using Twitter\"\"\"\n",
    "#Importing libraries for sentiment analysis\n",
    "\n",
    "import tweepy        #To consume Twitter's API\n",
    "import pandas as pd  #To handle data\n",
    "import numpy as np   #For computing number\n",
    "\n",
    "\n",
    "#For plotting and visualization\n",
    "\n",
    "from IPython.display import display\n",
    "import matplotlib.pyplot as plt\n",
    "import seaborn as sns\n",
    "\n",
    "%matplotlib inline"
   ]
  },
  {
   "cell_type": "markdown",
   "metadata": {},
   "source": [
    "\"\"\" A script called credentials.py has been created. Check how to create secret and access keys here -https://www.youtube.com/watch?v=T3i2bvDYNmY  \"\"\"\n",
    "\n",
    "#Consume\n",
    "CONSUMER_KEY    = ''\n",
    "CONSUMER_SECRET = ''\n",
    "\n",
    "#Access\n",
    "ACCESS_TOKEN  = ''\n",
    "ACCESS_SECRET = ''"
   ]
  },
  {
   "cell_type": "code",
   "execution_count": 5,
   "metadata": {
    "collapsed": true
   },
   "outputs": [],
   "source": [
    "# We import our access keys:\n",
    "from credentials import *    # This will allow us to use the keys as variables\n",
    "\n",
    "# API's setup:\n",
    "def twitter_setup():\n",
    "    \"\"\"\n",
    "    Utility function to setup the Twitter's API\n",
    "    with our access keys provided.\n",
    "    \"\"\"\n",
    "    # Authentication and access using keys:\n",
    "    auth = tweepy.OAuthHandler(CONSUMER_KEY, CONSUMER_SECRET)\n",
    "    auth.set_access_token(ACCESS_TOKEN, ACCESS_SECRET)\n",
    "\n",
    "    # Return API with authentication:\n",
    "    api = tweepy.API(auth)\n",
    "    return api"
   ]
  },
  {
   "cell_type": "code",
   "execution_count": 6,
   "metadata": {},
   "outputs": [
    {
     "name": "stdout",
     "output_type": "stream",
     "text": [
      "Number of tweets extracted: 200.\n",
      "\n",
      "5 recent tweets:\n",
      "\n",
      "The Stock Market has been creating tremendous benefits for our country in the form of not only Record Setting Stock… https://t.co/ztq2hDJ7rr\n",
      "\n",
      "The Fake News Awards, those going to the most corrupt &amp; biased of the Mainstream Media, will be presented to the lo… https://t.co/MFPjW1foo3\n",
      "\n",
      "Jake Tapper of Fake News CNN just got destroyed in his interview with Stephen Miller of the Trump Administration. W… https://t.co/eIIiydV1hR\n",
      "\n",
      "I’ve had to put up with the Fake News from the first day I announced that I would be running for President. Now I h… https://t.co/Y5wqMu8WzA\n",
      "\n",
      "Leaving Camp David for the White House. Great meetings with the Cabinet and Military on many very important subject… https://t.co/HHQLScpuHt\n",
      "\n"
     ]
    }
   ],
   "source": [
    "# We create an extractor object:\n",
    "extractor = twitter_setup()\n",
    "\n",
    "# We create a tweet list as follows:\n",
    "tweets = extractor.user_timeline(screen_name=\"realDonaldTrump\", count=200)\n",
    "print(\"Number of tweets extracted: {}.\\n\".format(len(tweets)))\n",
    "\n",
    "# We print the most recent 5 tweets:\n",
    "print(\"5 recent tweets:\\n\")\n",
    "for tweet in tweets[:5]:\n",
    "    print(tweet.text)\n",
    "    print()"
   ]
  },
  {
   "cell_type": "code",
   "execution_count": 7,
   "metadata": {},
   "outputs": [
    {
     "data": {
      "text/html": [
       "<div>\n",
       "<style>\n",
       "    .dataframe thead tr:only-child th {\n",
       "        text-align: right;\n",
       "    }\n",
       "\n",
       "    .dataframe thead th {\n",
       "        text-align: left;\n",
       "    }\n",
       "\n",
       "    .dataframe tbody tr th {\n",
       "        vertical-align: top;\n",
       "    }\n",
       "</style>\n",
       "<table border=\"1\" class=\"dataframe\">\n",
       "  <thead>\n",
       "    <tr style=\"text-align: right;\">\n",
       "      <th></th>\n",
       "      <th>Tweets</th>\n",
       "    </tr>\n",
       "  </thead>\n",
       "  <tbody>\n",
       "    <tr>\n",
       "      <th>0</th>\n",
       "      <td>The Stock Market has been creating tremendous ...</td>\n",
       "    </tr>\n",
       "    <tr>\n",
       "      <th>1</th>\n",
       "      <td>The Fake News Awards, those going to the most ...</td>\n",
       "    </tr>\n",
       "    <tr>\n",
       "      <th>2</th>\n",
       "      <td>Jake Tapper of Fake News CNN just got destroye...</td>\n",
       "    </tr>\n",
       "    <tr>\n",
       "      <th>3</th>\n",
       "      <td>I’ve had to put up with the Fake News from the...</td>\n",
       "    </tr>\n",
       "    <tr>\n",
       "      <th>4</th>\n",
       "      <td>Leaving Camp David for the White House. Great ...</td>\n",
       "    </tr>\n",
       "    <tr>\n",
       "      <th>5</th>\n",
       "      <td>....to President of the United States (on my f...</td>\n",
       "    </tr>\n",
       "    <tr>\n",
       "      <th>6</th>\n",
       "      <td>....Actually, throughout my life, my two great...</td>\n",
       "    </tr>\n",
       "    <tr>\n",
       "      <th>7</th>\n",
       "      <td>Now that Russian collusion, after one year of ...</td>\n",
       "    </tr>\n",
       "    <tr>\n",
       "      <th>8</th>\n",
       "      <td>Brian Ross, the reporter who made a fraudulent...</td>\n",
       "    </tr>\n",
       "    <tr>\n",
       "      <th>9</th>\n",
       "      <td>The African American unemployment rate fell to...</td>\n",
       "    </tr>\n",
       "  </tbody>\n",
       "</table>\n",
       "</div>"
      ],
      "text/plain": [
       "                                              Tweets\n",
       "0  The Stock Market has been creating tremendous ...\n",
       "1  The Fake News Awards, those going to the most ...\n",
       "2  Jake Tapper of Fake News CNN just got destroye...\n",
       "3  I’ve had to put up with the Fake News from the...\n",
       "4  Leaving Camp David for the White House. Great ...\n",
       "5  ....to President of the United States (on my f...\n",
       "6  ....Actually, throughout my life, my two great...\n",
       "7  Now that Russian collusion, after one year of ...\n",
       "8  Brian Ross, the reporter who made a fraudulent...\n",
       "9  The African American unemployment rate fell to..."
      ]
     },
     "metadata": {},
     "output_type": "display_data"
    }
   ],
   "source": [
    "# We create a pandas dataframe as follows:\n",
    "data = pd.DataFrame(data=[tweet.text for tweet in tweets], columns=['Tweets'])\n",
    "\n",
    "# We display the first 10 elements of the dataframe:\n",
    "display(data.head(10))"
   ]
  },
  {
   "cell_type": "code",
   "execution_count": 8,
   "metadata": {},
   "outputs": [
    {
     "name": "stdout",
     "output_type": "stream",
     "text": [
      "['__class__', '__delattr__', '__dict__', '__dir__', '__doc__', '__eq__', '__format__', '__ge__', '__getattribute__', '__getstate__', '__gt__', '__hash__', '__init__', '__init_subclass__', '__le__', '__lt__', '__module__', '__ne__', '__new__', '__reduce__', '__reduce_ex__', '__repr__', '__setattr__', '__sizeof__', '__str__', '__subclasshook__', '__weakref__', '_api', '_json', 'author', 'contributors', 'coordinates', 'created_at', 'destroy', 'entities', 'favorite', 'favorite_count', 'favorited', 'geo', 'id', 'id_str', 'in_reply_to_screen_name', 'in_reply_to_status_id', 'in_reply_to_status_id_str', 'in_reply_to_user_id', 'in_reply_to_user_id_str', 'is_quote_status', 'lang', 'parse', 'parse_list', 'place', 'retweet', 'retweet_count', 'retweeted', 'retweets', 'source', 'source_url', 'text', 'truncated', 'user']\n"
     ]
    }
   ],
   "source": [
    "# Internal methods of a single tweet object:\n",
    "print(dir(tweets[0]))"
   ]
  },
  {
   "cell_type": "code",
   "execution_count": 9,
   "metadata": {},
   "outputs": [
    {
     "name": "stdout",
     "output_type": "stream",
     "text": [
      "950105312782114817\n",
      "2018-01-07 20:42:13\n",
      "Twitter for iPhone\n",
      "41364\n",
      "8756\n",
      "None\n",
      "None\n",
      "{'hashtags': [], 'symbols': [], 'user_mentions': [], 'urls': [{'url': 'https://t.co/ztq2hDJ7rr', 'expanded_url': 'https://twitter.com/i/web/status/950105312782114817', 'display_url': 'twitter.com/i/web/status/9…', 'indices': [117, 140]}]}\n"
     ]
    }
   ],
   "source": [
    "# We print info from the first tweet:\n",
    "print(tweets[0].id)\n",
    "print(tweets[0].created_at)\n",
    "print(tweets[0].source)\n",
    "print(tweets[0].favorite_count)\n",
    "print(tweets[0].retweet_count)\n",
    "print(tweets[0].geo)\n",
    "print(tweets[0].coordinates)\n",
    "print(tweets[0].entities)"
   ]
  },
  {
   "cell_type": "code",
   "execution_count": 10,
   "metadata": {
    "collapsed": true
   },
   "outputs": [],
   "source": [
    "# We add relevant data:\n",
    "data['len']  = np.array([len(tweet.text) for tweet in tweets])\n",
    "data['ID']   = np.array([tweet.id for tweet in tweets])\n",
    "data['Date'] = np.array([tweet.created_at for tweet in tweets])\n",
    "data['Source'] = np.array([tweet.source for tweet in tweets])\n",
    "data['Likes']  = np.array([tweet.favorite_count for tweet in tweets])\n",
    "data['RTs']    = np.array([tweet.retweet_count for tweet in tweets])"
   ]
  },
  {
   "cell_type": "code",
   "execution_count": 11,
   "metadata": {},
   "outputs": [
    {
     "data": {
      "text/html": [
       "<div>\n",
       "<style>\n",
       "    .dataframe thead tr:only-child th {\n",
       "        text-align: right;\n",
       "    }\n",
       "\n",
       "    .dataframe thead th {\n",
       "        text-align: left;\n",
       "    }\n",
       "\n",
       "    .dataframe tbody tr th {\n",
       "        vertical-align: top;\n",
       "    }\n",
       "</style>\n",
       "<table border=\"1\" class=\"dataframe\">\n",
       "  <thead>\n",
       "    <tr style=\"text-align: right;\">\n",
       "      <th></th>\n",
       "      <th>Tweets</th>\n",
       "      <th>len</th>\n",
       "      <th>ID</th>\n",
       "      <th>Date</th>\n",
       "      <th>Source</th>\n",
       "      <th>Likes</th>\n",
       "      <th>RTs</th>\n",
       "    </tr>\n",
       "  </thead>\n",
       "  <tbody>\n",
       "    <tr>\n",
       "      <th>0</th>\n",
       "      <td>The Stock Market has been creating tremendous ...</td>\n",
       "      <td>140</td>\n",
       "      <td>950105312782114817</td>\n",
       "      <td>2018-01-07 20:42:13</td>\n",
       "      <td>Twitter for iPhone</td>\n",
       "      <td>41364</td>\n",
       "      <td>8756</td>\n",
       "    </tr>\n",
       "    <tr>\n",
       "      <th>1</th>\n",
       "      <td>The Fake News Awards, those going to the most ...</td>\n",
       "      <td>144</td>\n",
       "      <td>950103659337134080</td>\n",
       "      <td>2018-01-07 20:35:39</td>\n",
       "      <td>Twitter for iPhone</td>\n",
       "      <td>66633</td>\n",
       "      <td>17492</td>\n",
       "    </tr>\n",
       "    <tr>\n",
       "      <th>2</th>\n",
       "      <td>Jake Tapper of Fake News CNN just got destroye...</td>\n",
       "      <td>140</td>\n",
       "      <td>950023175907266560</td>\n",
       "      <td>2018-01-07 15:15:50</td>\n",
       "      <td>Twitter for iPhone</td>\n",
       "      <td>86900</td>\n",
       "      <td>22045</td>\n",
       "    </tr>\n",
       "    <tr>\n",
       "      <th>3</th>\n",
       "      <td>I’ve had to put up with the Fake News from the...</td>\n",
       "      <td>140</td>\n",
       "      <td>950014185299210240</td>\n",
       "      <td>2018-01-07 14:40:06</td>\n",
       "      <td>Twitter for iPhone</td>\n",
       "      <td>110197</td>\n",
       "      <td>23254</td>\n",
       "    </tr>\n",
       "    <tr>\n",
       "      <th>4</th>\n",
       "      <td>Leaving Camp David for the White House. Great ...</td>\n",
       "      <td>140</td>\n",
       "      <td>950012437788585985</td>\n",
       "      <td>2018-01-07 14:33:10</td>\n",
       "      <td>Twitter for iPhone</td>\n",
       "      <td>60705</td>\n",
       "      <td>12320</td>\n",
       "    </tr>\n",
       "    <tr>\n",
       "      <th>5</th>\n",
       "      <td>....to President of the United States (on my f...</td>\n",
       "      <td>140</td>\n",
       "      <td>949619270631256064</td>\n",
       "      <td>2018-01-06 12:30:51</td>\n",
       "      <td>Twitter for iPhone</td>\n",
       "      <td>132190</td>\n",
       "      <td>32655</td>\n",
       "    </tr>\n",
       "    <tr>\n",
       "      <th>6</th>\n",
       "      <td>....Actually, throughout my life, my two great...</td>\n",
       "      <td>139</td>\n",
       "      <td>949618475877765120</td>\n",
       "      <td>2018-01-06 12:27:42</td>\n",
       "      <td>Twitter for iPhone</td>\n",
       "      <td>124588</td>\n",
       "      <td>34867</td>\n",
       "    </tr>\n",
       "    <tr>\n",
       "      <th>7</th>\n",
       "      <td>Now that Russian collusion, after one year of ...</td>\n",
       "      <td>139</td>\n",
       "      <td>949616329463615489</td>\n",
       "      <td>2018-01-06 12:19:10</td>\n",
       "      <td>Twitter for iPhone</td>\n",
       "      <td>137693</td>\n",
       "      <td>33278</td>\n",
       "    </tr>\n",
       "    <tr>\n",
       "      <th>8</th>\n",
       "      <td>Brian Ross, the reporter who made a fraudulent...</td>\n",
       "      <td>140</td>\n",
       "      <td>949610896241946626</td>\n",
       "      <td>2018-01-06 11:57:35</td>\n",
       "      <td>Twitter for iPhone</td>\n",
       "      <td>110590</td>\n",
       "      <td>22125</td>\n",
       "    </tr>\n",
       "    <tr>\n",
       "      <th>9</th>\n",
       "      <td>The African American unemployment rate fell to...</td>\n",
       "      <td>140</td>\n",
       "      <td>949608746497576960</td>\n",
       "      <td>2018-01-06 11:49:02</td>\n",
       "      <td>Twitter for iPhone</td>\n",
       "      <td>133617</td>\n",
       "      <td>30681</td>\n",
       "    </tr>\n",
       "  </tbody>\n",
       "</table>\n",
       "</div>"
      ],
      "text/plain": [
       "                                              Tweets  len                  ID  \\\n",
       "0  The Stock Market has been creating tremendous ...  140  950105312782114817   \n",
       "1  The Fake News Awards, those going to the most ...  144  950103659337134080   \n",
       "2  Jake Tapper of Fake News CNN just got destroye...  140  950023175907266560   \n",
       "3  I’ve had to put up with the Fake News from the...  140  950014185299210240   \n",
       "4  Leaving Camp David for the White House. Great ...  140  950012437788585985   \n",
       "5  ....to President of the United States (on my f...  140  949619270631256064   \n",
       "6  ....Actually, throughout my life, my two great...  139  949618475877765120   \n",
       "7  Now that Russian collusion, after one year of ...  139  949616329463615489   \n",
       "8  Brian Ross, the reporter who made a fraudulent...  140  949610896241946626   \n",
       "9  The African American unemployment rate fell to...  140  949608746497576960   \n",
       "\n",
       "                 Date              Source   Likes    RTs  \n",
       "0 2018-01-07 20:42:13  Twitter for iPhone   41364   8756  \n",
       "1 2018-01-07 20:35:39  Twitter for iPhone   66633  17492  \n",
       "2 2018-01-07 15:15:50  Twitter for iPhone   86900  22045  \n",
       "3 2018-01-07 14:40:06  Twitter for iPhone  110197  23254  \n",
       "4 2018-01-07 14:33:10  Twitter for iPhone   60705  12320  \n",
       "5 2018-01-06 12:30:51  Twitter for iPhone  132190  32655  \n",
       "6 2018-01-06 12:27:42  Twitter for iPhone  124588  34867  \n",
       "7 2018-01-06 12:19:10  Twitter for iPhone  137693  33278  \n",
       "8 2018-01-06 11:57:35  Twitter for iPhone  110590  22125  \n",
       "9 2018-01-06 11:49:02  Twitter for iPhone  133617  30681  "
      ]
     },
     "metadata": {},
     "output_type": "display_data"
    }
   ],
   "source": [
    "# Display of first 10 elements from dataframe:\n",
    "display(data.head(10))"
   ]
  },
  {
   "cell_type": "code",
   "execution_count": 12,
   "metadata": {},
   "outputs": [
    {
     "name": "stdout",
     "output_type": "stream",
     "text": [
      "The lenght's average in tweets: 125.615\n"
     ]
    }
   ],
   "source": [
    "# We extract the mean of lenghts:\n",
    "mean = np.mean(data['len'])\n",
    "\n",
    "print(\"The lenght's average in tweets: {}\".format(mean))"
   ]
  },
  {
   "cell_type": "code",
   "execution_count": 13,
   "metadata": {},
   "outputs": [
    {
     "name": "stdout",
     "output_type": "stream",
     "text": [
      "The tweet with more likes is: \n",
      "North Korean Leader Kim Jong Un just stated that the “Nuclear Button is on his desk at all times.” Will someone fro… https://t.co/EvTgZxiji0\n",
      "Number of likes: 495575\n",
      "140 characters.\n",
      "\n",
      "The tweet with more retweets is: \n",
      "North Korean Leader Kim Jong Un just stated that the “Nuclear Button is on his desk at all times.” Will someone fro… https://t.co/EvTgZxiji0\n",
      "Number of retweets: 193480\n",
      "140 characters.\n",
      "\n"
     ]
    }
   ],
   "source": [
    "# We extract the tweet with more FAVs and more RTs:\n",
    "\n",
    "fav_max = np.max(data['Likes'])\n",
    "rt_max  = np.max(data['RTs'])\n",
    "\n",
    "fav = data[data.Likes == fav_max].index[0]\n",
    "rt  = data[data.RTs == rt_max].index[0]\n",
    "\n",
    "# Max FAVs:\n",
    "print(\"The tweet with more likes is: \\n{}\".format(data['Tweets'][fav]))\n",
    "print(\"Number of likes: {}\".format(fav_max))\n",
    "print(\"{} characters.\\n\".format(data['len'][fav]))\n",
    "\n",
    "# Max RTs:\n",
    "print(\"The tweet with more retweets is: \\n{}\".format(data['Tweets'][rt]))\n",
    "print(\"Number of retweets: {}\".format(rt_max))\n",
    "print(\"{} characters.\\n\".format(data['len'][rt]))"
   ]
  },
  {
   "cell_type": "code",
   "execution_count": 15,
   "metadata": {
    "collapsed": true
   },
   "outputs": [],
   "source": [
    "# We create time series for data:\n",
    "\n",
    "tlen = pd.Series(data=data['len'].values, index=data['Date'])\n",
    "tfav = pd.Series(data=data['Likes'].values, index=data['Date'])\n",
    "tret = pd.Series(data=data['RTs'].values, index=data['Date'])"
   ]
  },
  {
   "cell_type": "code",
   "execution_count": 16,
   "metadata": {},
   "outputs": [
    {
     "data": {
      "image/png": "[encoded data removed]",
      "text/plain": [
       "<matplotlib.figure.Figure at 0x21438751d68>"
      ]
     },
     "metadata": {},
     "output_type": "display_data"
    }
   ],
   "source": [
    "# Lenghts along time:\n",
    "tlen.plot(figsize=(16,4), color='r');"
   ]
  },
  {
   "cell_type": "code",
   "execution_count": 17,
   "metadata": {},
   "outputs": [
    {
     "data": {
      "image/png": "[encoded data removed]",
      "text/plain": [
       "<matplotlib.figure.Figure at 0x21438a73780>"
      ]
     },
     "metadata": {},
     "output_type": "display_data"
    }
   ],
   "source": [
    "# Likes vs retweets visualization:\n",
    "tfav.plot(figsize=(16,4), label=\"Likes\", legend=True)\n",
    "tret.plot(figsize=(16,4), label=\"Retweets\", legend=True);"
   ]
  },
  {
   "cell_type": "code",
   "execution_count": 18,
   "metadata": {},
   "outputs": [
    {
     "name": "stdout",
     "output_type": "stream",
     "text": [
      "Creation of content sources:\n",
      "* Twitter for iPhone\n",
      "* Twitter Web Client\n",
      "* Media Studio\n",
      "* Twitter for iPad\n"
     ]
    }
   ],
   "source": [
    "# We obtain all possible sources:\n",
    "sources = []\n",
    "for source in data['Source']:\n",
    "    if source not in sources:\n",
    "        sources.append(source)\n",
    "\n",
    "# We print sources list:\n",
    "print(\"Creation of content sources:\")\n",
    "for source in sources:\n",
    "    print(\"* {}\".format(source))"
   ]
  },
  {
   "cell_type": "code",
   "execution_count": 19,
   "metadata": {},
   "outputs": [
    {
     "data": {
      "image/png": "[encoded data removed]",
      "text/plain": [
       "<matplotlib.figure.Figure at 0x2143ab906d8>"
      ]
     },
     "metadata": {},
     "output_type": "display_data"
    }
   ],
   "source": [
    "# We create a numpy vector mapped to labels:\n",
    "percent = np.zeros(len(sources))\n",
    "\n",
    "for source in data['Source']:\n",
    "    for index in range(len(sources)):\n",
    "        if source == sources[index]:\n",
    "            percent[index] += 1\n",
    "            pass\n",
    "\n",
    "percent /= 100\n",
    "\n",
    "# Pie chart:\n",
    "pie_chart = pd.Series(percent, index=sources, name='Sources')\n",
    "pie_chart.plot.pie(fontsize=11, autopct='%.2f', figsize=(6, 6));"
   ]
  },
  {
   "cell_type": "code",
   "execution_count": 27,
   "metadata": {
    "collapsed": true
   },
   "outputs": [],
   "source": [
    "from textblob import TextBlob\n",
    "import re\n",
    "\n",
    "def clean_tweet(tweet):\n",
    "    '''\n",
    "    Utility function to clean the text in a tweet by removing \n",
    "    links and special characters using regex.\n",
    "    '''\n",
    "    return ' '.join(re.sub(\"(@[A-Za-z0-9]+)|([^0-9A-Za-z \\t])|(\\w+:\\/\\/\\S+)\", \" \", tweet).split())\n",
    "\n",
    "def analize_sentiment(tweet):\n",
    "    '''\n",
    "    Utility function to classify the polarity of a tweet\n",
    "    using textblob.\n",
    "    '''\n",
    "    analysis = TextBlob(clean_tweet(tweet))\n",
    "    if analysis.sentiment.polarity > 0:\n",
    "        return 1\n",
    "    elif analysis.sentiment.polarity == 0:\n",
    "        return 0\n",
    "    else:\n",
    "        return -1"
   ]
  },
  {
   "cell_type": "code",
   "execution_count": 28,
   "metadata": {},
   "outputs": [
    {
     "data": {
      "text/html": [
       "<div>\n",
       "<style>\n",
       "    .dataframe thead tr:only-child th {\n",
       "        text-align: right;\n",
       "    }\n",
       "\n",
       "    .dataframe thead th {\n",
       "        text-align: left;\n",
       "    }\n",
       "\n",
       "    .dataframe tbody tr th {\n",
       "        vertical-align: top;\n",
       "    }\n",
       "</style>\n",
       "<table border=\"1\" class=\"dataframe\">\n",
       "  <thead>\n",
       "    <tr style=\"text-align: right;\">\n",
       "      <th></th>\n",
       "      <th>Tweets</th>\n",
       "      <th>len</th>\n",
       "      <th>ID</th>\n",
       "      <th>Date</th>\n",
       "      <th>Source</th>\n",
       "      <th>Likes</th>\n",
       "      <th>RTs</th>\n",
       "      <th>SA</th>\n",
       "    </tr>\n",
       "  </thead>\n",
       "  <tbody>\n",
       "    <tr>\n",
       "      <th>0</th>\n",
       "      <td>The Stock Market has been creating tremendous ...</td>\n",
       "      <td>140</td>\n",
       "      <td>950105312782114817</td>\n",
       "      <td>2018-01-07 20:42:13</td>\n",
       "      <td>Twitter for iPhone</td>\n",
       "      <td>41364</td>\n",
       "      <td>8756</td>\n",
       "      <td>1</td>\n",
       "    </tr>\n",
       "    <tr>\n",
       "      <th>1</th>\n",
       "      <td>The Fake News Awards, those going to the most ...</td>\n",
       "      <td>144</td>\n",
       "      <td>950103659337134080</td>\n",
       "      <td>2018-01-07 20:35:39</td>\n",
       "      <td>Twitter for iPhone</td>\n",
       "      <td>66633</td>\n",
       "      <td>17492</td>\n",
       "      <td>-1</td>\n",
       "    </tr>\n",
       "    <tr>\n",
       "      <th>2</th>\n",
       "      <td>Jake Tapper of Fake News CNN just got destroye...</td>\n",
       "      <td>140</td>\n",
       "      <td>950023175907266560</td>\n",
       "      <td>2018-01-07 15:15:50</td>\n",
       "      <td>Twitter for iPhone</td>\n",
       "      <td>86900</td>\n",
       "      <td>22045</td>\n",
       "      <td>-1</td>\n",
       "    </tr>\n",
       "    <tr>\n",
       "      <th>3</th>\n",
       "      <td>I’ve had to put up with the Fake News from the...</td>\n",
       "      <td>140</td>\n",
       "      <td>950014185299210240</td>\n",
       "      <td>2018-01-07 14:40:06</td>\n",
       "      <td>Twitter for iPhone</td>\n",
       "      <td>110197</td>\n",
       "      <td>23254</td>\n",
       "      <td>-1</td>\n",
       "    </tr>\n",
       "    <tr>\n",
       "      <th>4</th>\n",
       "      <td>Leaving Camp David for the White House. Great ...</td>\n",
       "      <td>140</td>\n",
       "      <td>950012437788585985</td>\n",
       "      <td>2018-01-07 14:33:10</td>\n",
       "      <td>Twitter for iPhone</td>\n",
       "      <td>60705</td>\n",
       "      <td>12320</td>\n",
       "      <td>1</td>\n",
       "    </tr>\n",
       "    <tr>\n",
       "      <th>5</th>\n",
       "      <td>....to President of the United States (on my f...</td>\n",
       "      <td>140</td>\n",
       "      <td>949619270631256064</td>\n",
       "      <td>2018-01-06 12:30:51</td>\n",
       "      <td>Twitter for iPhone</td>\n",
       "      <td>132190</td>\n",
       "      <td>32655</td>\n",
       "      <td>1</td>\n",
       "    </tr>\n",
       "    <tr>\n",
       "      <th>6</th>\n",
       "      <td>....Actually, throughout my life, my two great...</td>\n",
       "      <td>139</td>\n",
       "      <td>949618475877765120</td>\n",
       "      <td>2018-01-06 12:27:42</td>\n",
       "      <td>Twitter for iPhone</td>\n",
       "      <td>124588</td>\n",
       "      <td>34867</td>\n",
       "      <td>1</td>\n",
       "    </tr>\n",
       "    <tr>\n",
       "      <th>7</th>\n",
       "      <td>Now that Russian collusion, after one year of ...</td>\n",
       "      <td>139</td>\n",
       "      <td>949616329463615489</td>\n",
       "      <td>2018-01-06 12:19:10</td>\n",
       "      <td>Twitter for iPhone</td>\n",
       "      <td>137693</td>\n",
       "      <td>33278</td>\n",
       "      <td>1</td>\n",
       "    </tr>\n",
       "    <tr>\n",
       "      <th>8</th>\n",
       "      <td>Brian Ross, the reporter who made a fraudulent...</td>\n",
       "      <td>140</td>\n",
       "      <td>949610896241946626</td>\n",
       "      <td>2018-01-06 11:57:35</td>\n",
       "      <td>Twitter for iPhone</td>\n",
       "      <td>110590</td>\n",
       "      <td>22125</td>\n",
       "      <td>-1</td>\n",
       "    </tr>\n",
       "    <tr>\n",
       "      <th>9</th>\n",
       "      <td>The African American unemployment rate fell to...</td>\n",
       "      <td>140</td>\n",
       "      <td>949608746497576960</td>\n",
       "      <td>2018-01-06 11:49:02</td>\n",
       "      <td>Twitter for iPhone</td>\n",
       "      <td>133617</td>\n",
       "      <td>30681</td>\n",
       "      <td>1</td>\n",
       "    </tr>\n",
       "  </tbody>\n",
       "</table>\n",
       "</div>"
      ],
      "text/plain": [
       "                                              Tweets  len                  ID  \\\n",
       "0  The Stock Market has been creating tremendous ...  140  950105312782114817   \n",
       "1  The Fake News Awards, those going to the most ...  144  950103659337134080   \n",
       "2  Jake Tapper of Fake News CNN just got destroye...  140  950023175907266560   \n",
       "3  I’ve had to put up with the Fake News from the...  140  950014185299210240   \n",
       "4  Leaving Camp David for the White House. Great ...  140  950012437788585985   \n",
       "5  ....to President of the United States (on my f...  140  949619270631256064   \n",
       "6  ....Actually, throughout my life, my two great...  139  949618475877765120   \n",
       "7  Now that Russian collusion, after one year of ...  139  949616329463615489   \n",
       "8  Brian Ross, the reporter who made a fraudulent...  140  949610896241946626   \n",
       "9  The African American unemployment rate fell to...  140  949608746497576960   \n",
       "\n",
       "                 Date              Source   Likes    RTs  SA  \n",
       "0 2018-01-07 20:42:13  Twitter for iPhone   41364   8756   1  \n",
       "1 2018-01-07 20:35:39  Twitter for iPhone   66633  17492  -1  \n",
       "2 2018-01-07 15:15:50  Twitter for iPhone   86900  22045  -1  \n",
       "3 2018-01-07 14:40:06  Twitter for iPhone  110197  23254  -1  \n",
       "4 2018-01-07 14:33:10  Twitter for iPhone   60705  12320   1  \n",
       "5 2018-01-06 12:30:51  Twitter for iPhone  132190  32655   1  \n",
       "6 2018-01-06 12:27:42  Twitter for iPhone  124588  34867   1  \n",
       "7 2018-01-06 12:19:10  Twitter for iPhone  137693  33278   1  \n",
       "8 2018-01-06 11:57:35  Twitter for iPhone  110590  22125  -1  \n",
       "9 2018-01-06 11:49:02  Twitter for iPhone  133617  30681   1  "
      ]
     },
     "metadata": {},
     "output_type": "display_data"
    }
   ],
   "source": [
    "# We create a column with the result of the analysis:\n",
    "data['SA'] = np.array([ analize_sentiment(tweet) for tweet in data['Tweets'] ])\n",
    "\n",
    "# We display the updated dataframe with the new column:\n",
    "display(data.head(10))"
   ]
  },
  {
   "cell_type": "code",
   "execution_count": 29,
   "metadata": {
    "collapsed": true
   },
   "outputs": [],
   "source": [
    "# We construct lists with classified tweets:\n",
    "\n",
    "pos_tweets = [ tweet for index, tweet in enumerate(data['Tweets']) if data['SA'][index] > 0]\n",
    "neu_tweets = [ tweet for index, tweet in enumerate(data['Tweets']) if data['SA'][index] == 0]\n",
    "neg_tweets = [ tweet for index, tweet in enumerate(data['Tweets']) if data['SA'][index] < 0]"
   ]
  },
  {
   "cell_type": "code",
   "execution_count": 30,
   "metadata": {},
   "outputs": [
    {
     "name": "stdout",
     "output_type": "stream",
     "text": [
      "Percentage of positive tweets: 56.0%\n",
      "Percentage of neutral tweets: 20.5%\n",
      "Percentage de negative tweets: 23.5%\n"
     ]
    }
   ],
   "source": [
    "# We print percentages:\n",
    "\n",
    "print(\"Percentage of positive tweets: {}%\".format(len(pos_tweets)*100/len(data['Tweets'])))\n",
    "print(\"Percentage of neutral tweets: {}%\".format(len(neu_tweets)*100/len(data['Tweets'])))\n",
    "print(\"Percentage de negative tweets: {}%\".format(len(neg_tweets)*100/len(data['Tweets'])))"
   ]
  },
  {
   "cell_type": "code",
   "execution_count": null,
   "metadata": {
    "collapsed": true
   },
   "outputs": [],
   "source": []
  }
 ],
 "metadata": {
  "kernelspec": {
   "display_name": "Python 3",
   "language": "python",
   "name": "python3"
  },
  "language_info": {
   "codemirror_mode": {
    "name": "ipython",
    "version": 3
   },
   "file_extension": ".py",
   "mimetype": "text/x-python",
   "name": "python",
   "nbconvert_exporter": "python",
   "pygments_lexer": "ipython3",
   "version": "3.6.1"
  }
 },
 "nbformat": 4,
 "nbformat_minor": 2
}
